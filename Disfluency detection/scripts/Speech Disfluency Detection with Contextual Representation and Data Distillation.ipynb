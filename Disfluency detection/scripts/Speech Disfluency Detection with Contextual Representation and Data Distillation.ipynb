{
 "cells": [
  {
   "cell_type": "code",
   "execution_count": 1,
   "id": "6f883c8e",
   "metadata": {},
   "outputs": [
    {
     "name": "stdout",
     "output_type": "stream",
     "text": [
      " Volume in drive D has no label.\n",
      " Volume Serial Number is 54E8-7F56\n",
      "\n",
      " Directory of D:\\Users\\Daniel\\Documents\\GitHub\\tesis_pucp\\Disfluency detection\\scripts\n",
      "\n",
      "10/15/2023  07:31 PM    <DIR>          .\n",
      "10/15/2023  07:31 PM    <DIR>          ..\n",
      "10/15/2023  07:31 PM    <DIR>          .ipynb_checkpoints\n",
      "10/12/2023  11:45 PM    <DIR>          __pycache__\n",
      "10/13/2023  02:40 PM            12,824 DisfluencyNet_train_Blocks.py\n",
      "10/14/2023  12:06 PM            12,719 DisfluencyNet_train_intrj.py\n",
      "10/14/2023  12:06 PM            12,712 DisfluencyNet_train_Pro.py\n",
      "10/14/2023  12:06 PM            12,710 DisfluencyNet_train_SND.py\n",
      "10/14/2023  12:07 PM            12,254 DisfluencyNet_train_WP.py\n",
      "10/13/2023  02:42 PM             6,788 helper_functions.py\n",
      "10/13/2023  10:15 AM    <DIR>          saves\n",
      "10/15/2023  07:30 PM                72 Speech Disfluency Detection with Contextual Representation and Data Distillation.ipynb\n",
      "10/11/2023  07:03 PM    <DIR>          test_data\n",
      "10/11/2023  07:04 PM    <DIR>          train_data\n",
      "10/15/2023  07:22 PM                72 Untitled.ipynb\n",
      "10/15/2023  07:22 PM                72 Untitled1.ipynb\n",
      "10/12/2023  11:45 PM    <DIR>          wav2vec_base_model_quart_data_blocks\n",
      "               9 File(s)         70,223 bytes\n",
      "               8 Dir(s)  2,762,710,224,896 bytes free\n"
     ]
    }
   ],
   "source": [
    "%ls"
   ]
  },
  {
   "cell_type": "code",
   "execution_count": null,
   "id": "d03c9b22",
   "metadata": {},
   "outputs": [],
   "source": [
    "!python DisfluencyNet_train_intrj.py"
   ]
  }
 ],
 "metadata": {
  "kernelspec": {
   "display_name": "Python 3 (ipykernel)",
   "language": "python",
   "name": "python3"
  },
  "language_info": {
   "codemirror_mode": {
    "name": "ipython",
    "version": 3
   },
   "file_extension": ".py",
   "mimetype": "text/x-python",
   "name": "python",
   "nbconvert_exporter": "python",
   "pygments_lexer": "ipython3",
   "version": "3.10.13"
  }
 },
 "nbformat": 4,
 "nbformat_minor": 5
}
